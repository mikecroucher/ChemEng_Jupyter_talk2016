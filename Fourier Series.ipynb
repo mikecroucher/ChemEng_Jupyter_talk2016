{
 "cells": [
  {
   "cell_type": "code",
   "execution_count": null,
   "metadata": {
    "collapsed": false
   },
   "outputs": [],
   "source": [
    "import matplotlib.pyplot as plt\n",
    "from numpy import pi,sin,linspace,zeros,arange,cos\n",
    "from ipywidgets import interact\n",
    "%matplotlib inline"
   ]
  },
  {
   "cell_type": "markdown",
   "metadata": {},
   "source": [
    "The fourier series for a square wave is \n",
    "\n",
    "$$f(x) = \\frac{4}{\\pi} \\sum^\\infty_{n=odd} \\frac{1}{n}\\sin \\left(\\frac{n\\pi x}{L} \\right)$$\n",
    "\n",
    "Let us explore how this summation converges"
   ]
  },
  {
   "cell_type": "code",
   "execution_count": null,
   "metadata": {
    "collapsed": true
   },
   "outputs": [],
   "source": [
    "def square_wave(N = 1,L = 5,num_points = 200):\n",
    "    x = linspace(-4*pi,4*pi,num_points)\n",
    "    y = zeros(num_points)\n",
    "    for n in arange(1,N+1,2):\n",
    "        y = y + (1.0/n * sin(n*pi*x/L))\n",
    "    y = y * 4.0/pi\n",
    "    plt.plot(x,y)"
   ]
  },
  {
   "cell_type": "code",
   "execution_count": null,
   "metadata": {
    "collapsed": false,
    "scrolled": true
   },
   "outputs": [],
   "source": [
    "square_wave(N=20,L=5)"
   ]
  },
  {
   "cell_type": "markdown",
   "metadata": {},
   "source": [
    "An interactive version of the above:"
   ]
  },
  {
   "cell_type": "code",
   "execution_count": null,
   "metadata": {
    "collapsed": false
   },
   "outputs": [],
   "source": [
    "interact(square_wave,N=(1,50,2),L=5,points=200);"
   ]
  },
  {
   "cell_type": "markdown",
   "metadata": {},
   "source": [
    "Think of this as interactive, computable lecture notes. We could also have the video of the lecture embedded right within the notebook.\n",
    "\n",
    "Here's a Fourier lecture example I found on Youtube."
   ]
  },
  {
   "cell_type": "code",
   "execution_count": null,
   "metadata": {
    "collapsed": true
   },
   "outputs": [],
   "source": [
    "from IPython.display import YouTubeVideo\n",
    "YouTubeVideo(\"x04dnqg-iPw\")"
   ]
  }
 ],
 "metadata": {
  "kernelspec": {
   "display_name": "Python 3",
   "language": "python",
   "name": "python3"
  },
  "language_info": {
   "codemirror_mode": {
    "name": "ipython",
    "version": 3
   },
   "file_extension": ".py",
   "mimetype": "text/x-python",
   "name": "python",
   "nbconvert_exporter": "python",
   "pygments_lexer": "ipython3",
   "version": "3.5.1"
  }
 },
 "nbformat": 4,
 "nbformat_minor": 0
}
